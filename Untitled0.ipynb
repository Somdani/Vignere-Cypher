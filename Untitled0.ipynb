{
  "nbformat": 4,
  "nbformat_minor": 0,
  "metadata": {
    "colab": {
      "name": "Untitled0.ipynb",
      "provenance": [],
      "collapsed_sections": []
    },
    "kernelspec": {
      "name": "python3",
      "display_name": "Python 3"
    }
  },
  "cells": [
    {
      "cell_type": "markdown",
      "metadata": {
        "id": "mTXmyu4dUB3t"
      },
      "source": [
        "Vignere cipher encryption and decryption python code by: Bhekie Danisa"
      ]
    },
    {
      "cell_type": "code",
      "metadata": {
        "id": "94GR3ff5xb6D"
      },
      "source": [
        "def new_letters(cha):\n",
        "    cha = cha.lower()\n",
        "    valid_letters = 'abcdefghijklmnopqrstuvwxyz'\n",
        "    new_letter = valid_letters[valid_letters.index(cha):] + valid_letters[:valid_letters.index(cha)]\n",
        "    return new_letter"
      ],
      "execution_count": 1,
      "outputs": []
    },
    {
      "cell_type": "code",
      "metadata": {
        "id": "nGBRJB8SxuxZ"
      },
      "source": [
        "def encrypt(X, K):\n",
        "    cyphertext = ''\n",
        "    valid_letters = 'abcdefghijklmnopqrstuvwxyz'\n",
        "    i = 1\n",
        "    for char in K:\n",
        "        current = new_letters(char)\n",
        "        for j in X:\n",
        "            if valid_letters.count(j) == 1 :\n",
        "                cyphertext += current[valid_letters.index(j)]\n",
        "                X = X[i:]\n",
        "                break\n",
        "            elif valid_letters.count(j.lower()) == 1:\n",
        "                cyphertext += current[valid_letters.index(j.lower())].upper()\n",
        "                X = X[i:]\n",
        "                break\n",
        "            else:\n",
        "                cyphertext += j\n",
        "                X = X[i:]\n",
        "                break\n",
        "            i += 1    \n",
        "    return cyphertext"
      ],
      "execution_count": 2,
      "outputs": []
    },
    {
      "cell_type": "code",
      "metadata": {
        "id": "ZbFKjhH24ZrD"
      },
      "source": [
        "def decrypt(X, K):\n",
        "    plaintext = ''\n",
        "    valid_letters = 'abcdefghijklmnopqrstuvwxyz'\n",
        "    i = 1\n",
        "    for char in K:\n",
        "        current = new_letters(char)\n",
        "        for j in X:\n",
        "            if valid_letters.count(j) == 1 :\n",
        "                plaintext += valid_letters[current.index(j)]\n",
        "                X = X[i:]\n",
        "                break\n",
        "            elif valid_letters.count(j.lower()) == 1:\n",
        "                plaintext += valid_letters[current.index(j.lower())].upper()\n",
        "                X = X[i:]\n",
        "                break\n",
        "            else:\n",
        "                plaintext += j\n",
        "                X = X[i:]\n",
        "                break\n",
        "            i += 1    \n",
        "    return plaintext  "
      ],
      "execution_count": 3,
      "outputs": []
    },
    {
      "cell_type": "code",
      "metadata": {
        "id": "b7o-Vqywxu8J"
      },
      "source": [
        "def main():\n",
        "  print('-----------------------------------------------------')\n",
        "  X = input('Enter your secret message: ') \n",
        "  key = input('Enter your secret key: ')\n",
        "  print('-----------------------------------------------------\\n')\n",
        "\n",
        "  print('\\n')\n",
        "  if len(key) <= len(X):\n",
        "    K = key * (len(X) // len(key)) + key[:len(X) % len(key)]\n",
        "    encrypted = encrypt(X, K)\n",
        "    Y = encrypted\n",
        "    decrypted = decrypt(Y, K)\n",
        "    \n",
        "    print('Encrepted Message      : ' + encrypted)\n",
        "    print('\\n')\n",
        "    reveal = input('Would you like to decrypt your message?: ')\n",
        "    print('\\n')\n",
        "    if (reveal == 'yes'):\n",
        "      input('Enter your cypertext: ')\n",
        "      print('\\n')\n",
        "      print('Decrypted Message      : ' + decrypted)\n",
        "      print('\\n')\n",
        "      print('Thanks for testing me!')\n",
        "      print('\\n')\n",
        "    else:\n",
        "      print('Thanks for testing me!')\n",
        "\n",
        "  else:\n",
        "    print('Error: length of key is longerthan length of the text ')\n"
      ],
      "execution_count": 8,
      "outputs": []
    },
    {
      "cell_type": "code",
      "metadata": {
        "id": "gjuYG--gNFQ6",
        "outputId": "ccd3b24e-7d6e-4f87-bc0f-c22f951dc191",
        "colab": {
          "base_uri": "https://localhost:8080/",
          "height": 399
        }
      },
      "source": [
        "main()"
      ],
      "execution_count": 10,
      "outputs": [
        {
          "output_type": "stream",
          "text": [
            "-----------------------------------------------------\n",
            "Enter your secret message: Welcome to Vignere cypher implemantation with python\n",
            "Enter your secret key: danisa\n",
            "-----------------------------------------------------\n",
            "\n",
            "\n",
            "\n",
            "Encrepted Message      : Zeykgmh gw Vlgamje clxzeu vuhlhmnvlawibv wltu hywhbv\n",
            "\n",
            "\n",
            "Would you like to decrypt your message?: yes\n",
            "\n",
            "\n",
            "Enter your cypertext: Zeykgmh gw Vlgamje clxzeu vuhlhmnvlawibv wltu hywhbv\n",
            "\n",
            "\n",
            "Decrypted Message      : Welcome to Vignere cypher implemantation with python\n",
            "\n",
            "\n",
            "Thanks for testing me!\n",
            "\n",
            "\n"
          ],
          "name": "stdout"
        }
      ]
    }
  ]
}